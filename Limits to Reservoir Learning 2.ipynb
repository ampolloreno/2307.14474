{
 "cells": [
  {
   "cell_type": "markdown",
   "id": "ea5cbbd7",
   "metadata": {},
   "source": [
    "# Scaling with number of signals.\n",
    "In the last notebook, we saw that in general, given a reservoir computer, we can construct an exponential number of new signals that, generally, can be used to improve learning. First, we show this more carefully.These networks are simple enough that there are only a few parameters: Training data length, Reservoir size, Spectral radius, Sparsity, Regularization coefficient and Bleedthrough coefficient.\n",
    "\n",
    "For this notebook, we are going to set 3,4,5 and 6 heuristically, and focus on 1 and 2. These can be tuned to control overfitting and performance. We also are going to optimize our simulation to have a batch dimension."
   ]
  },
  {
   "cell_type": "markdown",
   "id": "c8f00218",
   "metadata": {},
   "source": [
    "To reduce the complexity of the problem, we are going to consider a sum of sinusoids. The NARMA task is a good benchmark, and in general would likely require combinations of the powerset that also include multi-point correlated functions of time. Here, we consider the setting where we are receiving a signal that is some random sum of frequencies. This is simple, but can be thought of as first steps towards a Fourier learning algorithm."
   ]
  },
  {
   "cell_type": "markdown",
   "id": "63f8f4e6",
   "metadata": {},
   "source": [
    "# We're going to fix a very simple learning task - learning some collection of sinusoids. When considered as a signal processing tasks, this is simply learning the Fourier representation of a signal. In particular, we've assumed a bag of words model on the input, drawing uniformly at random from the interval. This is a good baseline, but could be improved by considering explicit correlations in a desired corpus that we were processing. Exhaustively using the power set is difficult, since the number of signals is exponential, but we can do it for small networks. \n",
    "# We simply add on all elements of the power set. Additionally we have rewritten the simulation to batch over the data dimension. \n",
    "# Our first claim is that the power set signals help. This is trivially true, since it's strictly more signals, but since we are interested in a scaling law, we'd really like an ensemble over many reservoirs. It's challenging to even enforce monotonicity since the new neurons interact with the old ones. That being said, we can sample from an ensemble, and we find generally that the powerset does better.  (Intuitively, products of sines have side bands, and so we expect the product signals to help.) We include ridge regression to avoid overfitting in the power set case.\n",
    "# To keep things maneagble, we will only look up to 10 neurons. The power set is already 1024 signals large. We need to fight over training, as well as numerical error incurred in the power set, since naive mulitiplication produces exponentially small numbers."
   ]
  },
  {
   "cell_type": "code",
   "execution_count": 28,
   "id": "cd8dea52",
   "metadata": {},
   "outputs": [],
   "source": [
    "def fetchData(n):\n",
    "    while True:\n",
    "        u = 0.5 * np.random.uniform(low=0., high=1.0, size=(n+1000))\n",
    "        freqs = [1,3,5,10,20]\n",
    "        y = sum([np.sin(20*u) for freq in freqs])\n",
    "        return (u, y)\n",
    "        \n",
    "def ESN_init(inSize, outSize, resSize, alpha, sparsity):\n",
    "    Win = np.random.rand(inSize+1, resSize) - 0.5\n",
    "    W = np.random.rand(resSize, resSize) - 0.5\n",
    "    W[np.random.rand(resSize, resSize)>sparsity] = 0\n",
    "    spec_rad = max(abs(np.linalg.eig(W)[0]))\n",
    "    W /= spec_rad\n",
    "    return Win, W, inSize, resSize, alpha, sparsity"
   ]
  },
  {
   "cell_type": "code",
   "execution_count": 29,
   "id": "5af0b171",
   "metadata": {},
   "outputs": [],
   "source": [
    "def reservoir(data, Win, W, inSize, resSize, alpha, restart, batch_number, power_set):\n",
    "    device = torch.device(\"mps\")\n",
    "    batch_size = len(data) // batch_number\n",
    "    W = torch.tensor(W).float()\n",
    "    W = torch.tensor(W, device=device)\n",
    "    data = torch.tensor(data).float()\n",
    "    data = torch.tensor(data, device=device)\n",
    "    new_data = data.view(batch_number, batch_size)\n",
    "    W_copies = W.repeat(batch_number, 1, 1).float()\n",
    "    Win = torch.tensor(Win).float()\n",
    "    Win = torch.tensor(Win, device=device)\n",
    "    Win_copies = Win.repeat(batch_number, 1, 1)\n",
    "    R_copies = .1 * (torch.ones((batch_number, resSize), device=device) - 0.5).float()\n",
    "    dm = torch.zeros((batch_number, batch_size - 50, 1 + inSize + resSize), device=device).float()\n",
    "    for t in range(batch_size):\n",
    "        u = new_data[:, t].unsqueeze(1)\n",
    "        ones = torch.ones(u.shape[0], 1, device=device)\n",
    "        ones = torch.hstack((ones, u))\n",
    "        R_copies = (1 - alpha)*R_copies +\\\n",
    "        alpha*torch.tanh(torch.einsum('ij,ijk->ik', ones,Win_copies) +\\\n",
    "                  torch.einsum('ij,ijk->ik', R_copies, W_copies))\n",
    "        u = u.float()\n",
    "        if t >= 50:\n",
    "            dm[:, t-50, :] = torch.cat((ones, R_copies), dim=1)            \n",
    "    dm = dm.view(-1, 1+inSize+resSize)\n",
    "    new_data = new_data[:, 50:].flatten()\n",
    "    s = list(dm.T)[2:]\n",
    "    chosen_subsets = []\n",
    "    if power_set:\n",
    "        # Generate all subsets\n",
    "        from itertools import combinations\n",
    "        for subset_size in range(len(s)+1):  # +1 because range excludes the last number\n",
    "            for subset in combinations(s, subset_size):\n",
    "                chosen_subsets.append(list(subset))\n",
    "    ones = torch.ones(new_data.shape[0]).numpy()\n",
    "    chosen_subsets = [[l.cpu().numpy() for l in el] for el in chosen_subsets]\n",
    "    power_signals = [reduce(lambda a, b: a*b, el, ones) for el in chosen_subsets] \n",
    "    power_signals = [torch.tensor(pw) for i,pw in enumerate(power_signals)]\n",
    "    power_signals = [el.cpu() for el in list(dm.T)] + power_signals\n",
    "    return torch.vstack(power_signals).T, new_data"
   ]
  },
  {
   "cell_type": "code",
   "execution_count": 30,
   "id": "c6007f79",
   "metadata": {},
   "outputs": [],
   "source": [
    "def test_NARMA10(inSize=1, outSize=1, train_cycles=10000, test_cycles=1000, alpha=0.7, resSize=5,num_batches=2, powerset=False):    \n",
    "    sparsity = 0.9\n",
    "    Echo = ESN_init(inSize, outSize, resSize, alpha, sparsity)\n",
    "    data, Y = fetchData(train_cycles+test_cycles + 50*num_batches*2)\n",
    "    data_train, Y_train = data[:train_cycles+50*num_batches], Y[:train_cycles+50*num_batches]\n",
    "    data_test, Y_test = data[train_cycles+50:], Y[train_cycles+50:]\n",
    "    batch_size = len(data_train) // num_batches\n",
    "    data_train, Y_train = data_train[:batch_size*num_batches], Y_train[:batch_size*num_batches]\n",
    "   \n",
    "    # Cut out the warmup portions.\n",
    "    Y_train = Y_train.reshape((num_batches, batch_size))  \n",
    "    Y_train = Y_train[:, 50:].flatten()\n",
    "    RA_Train, data_train = reservoir(data_train, *Echo, num_batches, powerset)\n",
    "    ridge = np.zeros(tuple(RA_Train.shape))\n",
    "    np.fill_diagonal(ridge, 1E-3) \n",
    "    Wout, _, _, _ = np.linalg.lstsq(RA_Train.cpu().float().numpy() + torch.tensor(ridge).float().numpy(), torch.tensor(Y_train).cpu().float().numpy(), rcond=0)\n",
    "    batch_size = len(data_test) // num_batches\n",
    "    data_test, Y_test = data_test[:batch_size*num_batches], Y_test[:batch_size*num_batches]\n",
    "    RA_Test, _ = reservoir(data_test, *Echo, num_batches, powerset)\n",
    "    Yhat = RA_Test.cpu() @ Wout\n",
    "    Y_test = Y_test.reshape((num_batches, batch_size))  \n",
    "    Y_test = Y_test[:, 50:].flatten()    \n",
    "    NRMSE = np.sqrt(np.divide(np.mean(np.square(Y_test-Yhat.numpy().T)),np.var(Y_test)))\n",
    "    return NRMSE, Y_test, Yhat, RA_Test\n",
    "\n"
   ]
  },
  {
   "cell_type": "code",
   "execution_count": 31,
   "id": "5b196066",
   "metadata": {
    "scrolled": false
   },
   "outputs": [
    {
     "name": "stderr",
     "output_type": "stream",
     "text": [
      "  0%|                                                     | 0/9 [00:00<?, ?it/s]/var/folders/j0/gznjt10n4vsdfzmfxrnqn9hw0000gn/T/ipykernel_31105/2855340009.py:5: UserWarning: To copy construct from a tensor, it is recommended to use sourceTensor.clone().detach() or sourceTensor.clone().detach().requires_grad_(True), rather than torch.tensor(sourceTensor).\n",
      "  W = torch.tensor(W, device=device)\n",
      "/var/folders/j0/gznjt10n4vsdfzmfxrnqn9hw0000gn/T/ipykernel_31105/2855340009.py:7: UserWarning: To copy construct from a tensor, it is recommended to use sourceTensor.clone().detach() or sourceTensor.clone().detach().requires_grad_(True), rather than torch.tensor(sourceTensor).\n",
      "  data = torch.tensor(data, device=device)\n",
      "/var/folders/j0/gznjt10n4vsdfzmfxrnqn9hw0000gn/T/ipykernel_31105/2855340009.py:11: UserWarning: To copy construct from a tensor, it is recommended to use sourceTensor.clone().detach() or sourceTensor.clone().detach().requires_grad_(True), rather than torch.tensor(sourceTensor).\n",
      "  Win = torch.tensor(Win, device=device)\n",
      "100%|█████████████████████████████████████████████| 9/9 [00:04<00:00,  1.94it/s]\n"
     ]
    }
   ],
   "source": [
    "import numpy as np\n",
    "import torch, random\n",
    "import matplotlib.pyplot as plt\n",
    "import pickle\n",
    "from tqdm import tqdm\n",
    "from functools import reduce\n",
    "np.random.seed(137)\n",
    "random.seed(137)\n",
    "batches = 1000\n",
    "test_cycles=1000\n",
    "# list to store all NRMSE values\n",
    "all_nrmse = []\n",
    "spacingx=1\n",
    "spacingy=1000\n",
    "# range for resSize and train_cycles\n",
    "resSizes = np.arange(1, 10, spacingx)\n",
    "train_steps = np.arange(1000, 110000, spacingy)\n",
    "last_train_cycles = 0\n",
    "NRMSE = np.inf\n",
    "powerset = False\n",
    "# Demonstrated loop for different sizes and cycles\n",
    "for resSize in tqdm(resSizes):\n",
    "    for train_cycles in train_steps:\n",
    "        if train_cycles < last_train_cycles:\n",
    "            continue\n",
    "        train_cycles = batches * train_cycles // batches\n",
    "        NRMSE, _, _, _ = test_NARMA10(resSize=resSize, num_batches=batches, train_cycles=train_cycles, test_cycles=test_cycles, powerset=powerset)\n",
    "        # Append the NRMSE value and configuration to the listpower\n",
    "        all_nrmse.append((NRMSE, resSize, train_cycles))\n",
    "        \n",
    "        # Save results with pickle after each iteration\n",
    "        with open(f'results{powerset}.pkl', 'wb') as f:\n",
    "            pickle.dump(all_nrmse, f)\n",
    "\n",
    "        # break loop if performance decreases\n",
    "        if len(all_nrmse) > 1 and all_nrmse[-1][0] > all_nrmse[-2][0]:\n",
    "            last_train_cycles = train_cycles\n",
    "            break"
   ]
  },
  {
   "cell_type": "code",
   "execution_count": 32,
   "id": "0319cab9",
   "metadata": {},
   "outputs": [
    {
     "data": {
      "text/plain": [
       "<matplotlib.legend.Legend at 0x7fce1a784610>"
      ]
     },
     "execution_count": 32,
     "metadata": {},
     "output_type": "execute_result"
    },
    {
     "data": {
      "image/png": "[encoded data removed]",
      "text/plain": [
       "<Figure size 640x480 with 1 Axes>"
      ]
     },
     "metadata": {},
     "output_type": "display_data"
    }
   ],
   "source": [
    "import pickle as pkl\n",
    "import numpy as np\n",
    "with open('resultsFalse.pkl', 'rb') as f:\n",
    "    all_nrmse0 = pkl.load(f)\n",
    "import numpy as np\n",
    "with open('resultsTrue.pkl', 'rb') as f:\n",
    "    all_nrmse1 = pkl.load(f)\n",
    "\n",
    "a = np.array(all_nrmse0)\n",
    "b = np.array(all_nrmse1)\n",
    "\n",
    "import numpy as np\n",
    "import matplotlib.pyplot as plt\n",
    "\n",
    "def get_best_per_size(data):\n",
    "    sizes = np.unique(data[:, 1])\n",
    "    best_values = {}\n",
    "    for size in sizes:\n",
    "        size_data = data[data[:, 1] == size]\n",
    "        best_value = np.min(size_data[:, 0])\n",
    "        best_values[size] = best_value\n",
    "    return best_values\n",
    "\n",
    "# Find the best values per size for each dataset\n",
    "best_a = get_best_per_size(a)\n",
    "best_b = get_best_per_size(b)\n",
    "plt.plot(list(best_a.values()), label='no power set')\n",
    "plt.plot(list(best_b.values()), label='powerset')\n",
    "plt.legend()"
   ]
  }
 ],
 "metadata": {
  "kernelspec": {
   "display_name": "Python 3 (ipykernel)",
   "language": "python",
   "name": "python3"
  },
  "language_info": {
   "codemirror_mode": {
    "name": "ipython",
    "version": 3
   },
   "file_extension": ".py",
   "mimetype": "text/x-python",
   "name": "python",
   "nbconvert_exporter": "python",
   "pygments_lexer": "ipython3",
   "version": "3.9.18"
  }
 },
 "nbformat": 4,
 "nbformat_minor": 5
}
